{
 "cells": [
  {
   "cell_type": "code",
   "execution_count": 1,
   "metadata": {},
   "outputs": [],
   "source": [
    "import numpy as np\n",
    "import matplotlib.pyplot as plt\n",
    "import pandas as pd\n",
    "from pandas.io.feather_format import read_feather\n",
    "import pandas_datareader as web\n",
    "import datetime as dt\n",
    "\n",
    "from sklearn.preprocessing import MinMaxScaler\n",
    "from tensorflow.keras.models import Sequential\n",
    "from tensorflow.keras.layers import Dense, Dropout, LSTM\n",
    "from tensorflow.python.distribute.coordinator.values import PerWorkerDatasetFromDatasetFunction\n",
    "from tensorflow.python.ops.gen_math_ops import mod, real"
   ]
  },
  {
   "cell_type": "code",
   "execution_count": 2,
   "metadata": {},
   "outputs": [],
   "source": [
    "### Load Data\n",
    "company = \"TSLA\"\n",
    "\n",
    "start = dt.datetime(2012,1,1)\n",
    "end = dt.datetime(2020,1,1)\n",
    "\n",
    "# Getting the data\n",
    "data = web.DataReader(company, 'yahoo', start, end) # Gives entire spreadsheet of data"
   ]
  },
  {
   "cell_type": "code",
   "execution_count": 3,
   "metadata": {},
   "outputs": [],
   "source": [
    "### Prepare data\n",
    "# Scaling it all into one range\n",
    "scaler = MinMaxScaler(feature_range = (0,1))\n",
    "# Getting the values of the data from the closer column of the test_data spreadsheet\n",
    "scaled_data = scaler.fit_transform(data['Close'].values.reshape(-1,1)) # Spreadsheet of data between 0 and 1\n",
    "\n",
    "# Comparing it with the day 60 days into the future, how data found\n",
    "prediction_days = 60\n",
    "\n",
    "x_train = []\n",
    "y_train = []\n",
    "\n",
    "# Putting the data into the empty lists, 60 values that we know, model learn what next value going to be\n",
    "for x in range(prediction_days, len(scaled_data)):\n",
    "    x_train.append(scaled_data[x-prediction_days:x, 0]) # First 60 days\n",
    "    y_train.append(scaled_data[x, 0]) # Everything other than the 60 days"
   ]
  },
  {
   "cell_type": "code",
   "execution_count": 4,
   "metadata": {},
   "outputs": [],
   "source": [
    "### Converting to numpy arrays\n",
    "# Creates a 1D array\n",
    "x_train, y_train = np.array(x_train), np.array(y_train)\n",
    "# Reshape works by np.reshape(array you want to reshape, (rows, columns))\n",
    "# Can do reshape(array changed, length of array) to make one big one together [[1,2,3], [4,5,6]] to [1, 4, 2, 5, 3, 6]\n",
    "# The extra 1 after shape[1] makes it be a 3D array\n",
    "# .shape gives the rows and columns of an array\n",
    "# For [[1,2,3], [4,5,6]] it would be (2,3)\n",
    "x_train = np.reshape(x_train, (x_train.shape[0], x_train.shape[1], 1))\n",
    "# x_train is a 3D array\n",
    "# y_train is a 1D array"
   ]
  },
  {
   "cell_type": "code",
   "execution_count": 5,
   "metadata": {},
   "outputs": [
    {
     "name": "stdout",
     "output_type": "stream",
     "text": [
      "Epoch 1/25\n",
      "61/61 [==============================] - 11s 75ms/step - loss: 0.0938\n",
      "Epoch 2/25\n",
      "61/61 [==============================] - 4s 71ms/step - loss: 0.0514\n",
      "Epoch 3/25\n",
      "61/61 [==============================] - 4s 71ms/step - loss: 0.0484\n",
      "Epoch 4/25\n",
      "61/61 [==============================] - 4s 66ms/step - loss: 0.0472\n",
      "Epoch 5/25\n",
      "61/61 [==============================] - 4s 69ms/step - loss: 0.0450\n",
      "Epoch 6/25\n",
      "61/61 [==============================] - 5s 78ms/step - loss: 0.0443\n",
      "Epoch 7/25\n",
      "61/61 [==============================] - 5s 84ms/step - loss: 0.0448\n",
      "Epoch 8/25\n",
      "61/61 [==============================] - 5s 79ms/step - loss: 0.0424\n",
      "Epoch 9/25\n",
      "61/61 [==============================] - 5s 79ms/step - loss: 0.0431\n",
      "Epoch 10/25\n",
      "61/61 [==============================] - 5s 77ms/step - loss: 0.0411\n",
      "Epoch 11/25\n",
      "61/61 [==============================] - 5s 78ms/step - loss: 0.0385\n",
      "Epoch 12/25\n",
      "61/61 [==============================] - 4s 73ms/step - loss: 0.0392\n",
      "Epoch 13/25\n",
      "61/61 [==============================] - 5s 74ms/step - loss: 0.0388\n",
      "Epoch 14/25\n",
      "61/61 [==============================] - 4s 71ms/step - loss: 0.0405\n",
      "Epoch 15/25\n",
      "61/61 [==============================] - 5s 81ms/step - loss: 0.0364\n",
      "Epoch 16/25\n",
      "61/61 [==============================] - 6s 91ms/step - loss: 0.0354\n",
      "Epoch 17/25\n",
      "61/61 [==============================] - 5s 80ms/step - loss: 0.0358\n",
      "Epoch 18/25\n",
      "61/61 [==============================] - 5s 86ms/step - loss: 0.0354\n",
      "Epoch 19/25\n",
      "61/61 [==============================] - 5s 83ms/step - loss: 0.0352\n",
      "Epoch 20/25\n",
      "61/61 [==============================] - 5s 80ms/step - loss: 0.0340\n",
      "Epoch 21/25\n",
      "61/61 [==============================] - 5s 80ms/step - loss: 0.0345\n",
      "Epoch 22/25\n",
      "61/61 [==============================] - 5s 77ms/step - loss: 0.0339\n",
      "Epoch 23/25\n",
      "61/61 [==============================] - 5s 78ms/step - loss: 0.0321\n",
      "Epoch 24/25\n",
      "61/61 [==============================] - 5s 89ms/step - loss: 0.0325\n",
      "Epoch 25/25\n",
      "61/61 [==============================] - 5s 81ms/step - loss: 0.0335\n"
     ]
    },
    {
     "data": {
      "text/plain": [
       "<keras.callbacks.History at 0x1d6e72f0490>"
      ]
     },
     "execution_count": 5,
     "metadata": {},
     "output_type": "execute_result"
    }
   ],
   "source": [
    "### Build the model and training\n",
    "\n",
    "# 3 different models, sequential, functional and model subclassing\n",
    "# Sequential is the basic one, no multiple inputs, step-by-step\n",
    "model = Sequential()\n",
    "\n",
    "# .add command is adding layers to the model\n",
    "\n",
    "# Try out different numbers, more units more layers = longer training\n",
    "# Units is dimensionality of output space\n",
    "# Return_sequences returns the last outside\n",
    "# Input_shape is how the data looks when it goes in\n",
    "# x_train.shape[1] gives me the columns of the array\n",
    "model.add(LSTM(units = 50, return_sequences = True, input_shape = (x_train.shape[1], 1)))\n",
    "\n",
    "# Dropout fixes overfitting of data, getting rid of stuff so doesn't get too close to original and good adding new data\n",
    "# When you think abt it, if use all the values from before and only add a couple new ones won't change much on the thing\n",
    "# But if mess around and throw some stuff in there to fudge the values, more accepting to new ones\n",
    "# Does it every 0.2 ---> Randomly throws in zeroes into the stuff\n",
    "model.add(Dropout(0.2))\n",
    "\n",
    "# Doing it multiple times increases accuracy, deep learning technique\n",
    "# 'deeper model'\n",
    "model.add(LSTM(units = 50, return_sequences = True))\n",
    "\n",
    "model.add(Dropout(0.2))\n",
    "\n",
    "model.add(LSTM(units = 50))\n",
    "\n",
    "model.add(Dropout(0.2))\n",
    "\n",
    "# Don't entirely get what dense does, but supposed to help with below\n",
    "# Prediction of the next closing value\n",
    "model.add(Dense(units = 1))\n",
    "\n",
    "# Different optimizers do different things\n",
    "# adam is a, quote, stochastic gradient descent method based on adpative esimation of first and second order moments\n",
    "# SGD, another one I tested, is a gradient descent with momentum (it sucks)\n",
    "# loss is to compute quantity model should seek to minimize during training\n",
    "# mean_squared_error computes mean of sequares of errors between labels and prediction\n",
    "model.compile(optimizer = 'adam', loss = 'mean_absolute_error')\n",
    "\n",
    "# epochs are phases of training, how many times go through the training set\n",
    "# batch_size is a number of samples processed before the model is updated\n",
    "model.fit(x_train, y_train, epochs = 25, batch_size = 32)"
   ]
  },
  {
   "cell_type": "code",
   "execution_count": 6,
   "metadata": {},
   "outputs": [],
   "source": [
    "''' Test the model accuracy on existing data '''\n",
    "\n",
    "### Load test data\n",
    "\n",
    "test_start = dt.datetime(2020,1,1)\n",
    "test_end = dt.datetime.now()\n",
    "\n",
    "# Getting the data\n",
    "test_data = web.DataReader(company, 'yahoo', test_start, test_end)\n",
    "\n",
    "# Getting the values of the data from the closer column of the test_data spreadsheet\n",
    "actual_prices = test_data['Close'].values\n",
    "\n",
    "# Needed to make the graph understandable\n",
    "x_axis_actual_prices = []\n",
    "for i in range(len(actual_prices)):\n",
    "    x_axis_actual_prices.append(i/260*365)\n",
    "\n",
    "# Concatenating across an axis\n",
    "total_dataset = pd.concat((data['Close'], test_data['Close']))"
   ]
  },
  {
   "cell_type": "code",
   "execution_count": 7,
   "metadata": {},
   "outputs": [],
   "source": [
    "### What the model sees\n",
    "# Selecting the data to use\n",
    "model_inputs = total_dataset[len(total_dataset) - len(test_data) - prediction_days:].values\n",
    "# Making them between the values\n",
    "model_inputs = model_inputs.reshape(-1,1)\n",
    "# Change so mean of 0 and sd of 1\n",
    "model_inputs = scaler.transform(model_inputs)"
   ]
  },
  {
   "cell_type": "code",
   "execution_count": 8,
   "metadata": {},
   "outputs": [],
   "source": [
    "### Make predictions on test data\n",
    "\n",
    "x_test = []\n",
    "\n",
    "# Putting the values into a list\n",
    "for x in range(prediction_days, len(model_inputs)):\n",
    "    x_test.append(model_inputs[x-prediction_days:x, 0])\n",
    "\n",
    "# Making an array and reshaping it like before\n",
    "x_test = np.array(x_test)\n",
    "x_test = np.reshape(x_test, (x_test.shape[0], x_test.shape[1]))\n",
    "\n",
    "# Gotta scale back the price form the 0-1\n",
    "predicted_prices = model.predict(x_test)\n",
    "predicted_prices = scaler.inverse_transform(predicted_prices)\n",
    "\n",
    "# Needed to make the graph understandable\n",
    "x_axis_predicted_prices = []\n",
    "for i in range(len(predicted_prices)):\n",
    "    x_axis_predicted_prices.append(i/260*365)"
   ]
  },
  {
   "cell_type": "code",
   "execution_count": 9,
   "metadata": {},
   "outputs": [
    {
     "data": {
      "image/png": "[encoded data removed]",
      "text/plain": [
       "<Figure size 432x288 with 1 Axes>"
      ]
     },
     "metadata": {
      "needs_background": "light"
     },
     "output_type": "display_data"
    }
   ],
   "source": [
    "### Plot the test prediction\n",
    "\n",
    "# Plotting the lines STH I CHANGED AND DID I AM PROUD\n",
    "plt.plot(x_axis_actual_prices, actual_prices, color = \"black\", label = f\"Actual {company} Price\")\n",
    "plt.plot(x_axis_predicted_prices, predicted_prices, color = \"green\", label = f\"Predicted {company} Price\")\n",
    "# Axis'\n",
    "plt.title(f\"{company} Share Price\")\n",
    "plt.xlabel('Days since Jan 1st 2020')\n",
    "plt.ylabel(f'{company} Share Price')\n",
    "# Labels on bottom x-axis stated\n",
    "plt.xticks([0, 60, 120, 180, 240, 300, 360, 420, 480, 540, 600])\n",
    "plt.legend()\n",
    "plt.show()"
   ]
  },
  {
   "cell_type": "code",
   "execution_count": 10,
   "metadata": {},
   "outputs": [
    {
     "name": "stdout",
     "output_type": "stream",
     "text": [
      "Prediction: [306.08267]\n"
     ]
    }
   ],
   "source": [
    "# Predict next day\n",
    "real_data = []\n",
    "# Looked at the method of predicting from before anad basically copied this append to list bit, switching how take from list\n",
    "for x in range(prediction_days, len(model_inputs)):\n",
    "    real_data.append(model_inputs[len(model_inputs) - prediction_days:len(model_inputs + 1), 0])\n",
    "    \n",
    "# Making it an array\n",
    "real_data = np.array(real_data)\n",
    "real_data = np.reshape(real_data, (real_data.shape[0], real_data.shape[1], 1))\n",
    "\n",
    "# Prediction\n",
    "prediction = model.predict(real_data)\n",
    "prediction = scaler.inverse_transform(prediction)\n",
    "# Giving me the value, only 1 into the future though\n",
    "print(f\"Prediction: {prediction[0]}\")"
   ]
  }
 ],
 "metadata": {
  "interpreter": {
   "hash": "0062de60b03dc600b3c928cda3bb59847162c1c3a210abd21a19af4653c49c73"
  },
  "kernelspec": {
   "display_name": "Python 3.9.5 64-bit",
   "language": "python",
   "name": "python3"
  },
  "language_info": {
   "codemirror_mode": {
    "name": "ipython",
    "version": 3
   },
   "file_extension": ".py",
   "mimetype": "text/x-python",
   "name": "python",
   "nbconvert_exporter": "python",
   "pygments_lexer": "ipython3",
   "version": "3.9.5"
  },
  "orig_nbformat": 4
 },
 "nbformat": 4,
 "nbformat_minor": 2
}
